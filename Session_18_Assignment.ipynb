{
 "cells": [
  {
   "cell_type": "markdown",
   "metadata": {},
   "source": [
    "### Problem Statement 1:\n",
    "### Is gender independent of education level? A random sample of 395 people were surveyed and each person was asked to report the highest education level they obtained. The data that resulted from the survey is summarized in the following table: \n",
    "<table >\n",
    "     <tr style=\"font-size:30px; color:Green; fontWeight=bold\" >\n",
    "            <td >Gender</td><td>High School</td><td>Bachelors</td><td>Masters</td><td>Ph.d.</td><td>Total</td>\n",
    "    </tr> \n",
    "    <tr style=\"font-size:24px; color:blue; fontWeight=bold\">\n",
    "        <td>Female</td><td>60</td><td>54</td><td>46</td><td>41</td><td>201</td>\n",
    "    </tr>    \n",
    "      <tr style=\"font-size:24px; color:blue; fontWeight=bold\">\n",
    "        <td>Male&nbsp;&nbsp;&nbsp;&nbsp;</td><td>40</td><td>44</td><td>53</td><td>57</td><td>194</td>\n",
    "    </tr> \n",
    "      <tr style=\"font-size:24px; color:blue; fontWeight=bold\">\n",
    "        <td>Total&nbsp;&nbsp;&nbsp;&nbsp;</td><td>100</td><td>98</td><td>99</td><td>98</td><td>395</td>\n",
    "    </tr> \n",
    "</table>\n",
    "\n",
    "### Question: Are gender and education level dependent at 5% level of significance? In other words, given the data collected above, is there a relationship between the gender of an individual and the level of education that they have obtained?"
   ]
  },
  {
   "cell_type": "markdown",
   "metadata": {},
   "source": [
    "## Create table to expected count following formulaes to be used\n",
    "## E= (Row Total×Column Total) / Sample Size\n",
    "## New Table would look like this"
   ]
  },
  {
   "cell_type": "markdown",
   "metadata": {},
   "source": [
    "<table >\n",
    "     <tr style=\"font-size:30px; color:Green; fontWeight=bold\" >\n",
    "            <td >Gender</td><td>High School</td><td>Bachelors</td><td>Masters</td><td>Ph.d.</td><td>Total</td>\n",
    "    </tr> \n",
    "    <tr style=\"font-size:24px; color:blue; fontWeight=bold\">\n",
    "        <td>Female</td><td>50.886</td><td>49.868</td><td>50.377</td><td>49.868</td><td>201</td>\n",
    "    </tr>    \n",
    "      <tr style=\"font-size:24px; color:blue; fontWeight=bold\">\n",
    "        <td>Male&nbsp;&nbsp;&nbsp;&nbsp;</td><td>49.114</td><td>48.132</td><td>48.623</td><td>48.132</td><td>194</td>\n",
    "    </tr> \n",
    "      <tr style=\"font-size:24px; color:blue; fontWeight=bold\">\n",
    "        <td>Total&nbsp;&nbsp;&nbsp;&nbsp;</td><td>100</td><td>98</td><td>99</td><td>98</td><td>395</td>\n",
    "    </tr> \n",
    "</table>"
   ]
  },
  {
   "cell_type": "markdown",
   "metadata": {},
   "source": [
    "### So         χ2 = (60−50.886)2 / 50.886 + .......... + (57−48.132)2 /48.132 = 8.006\n",
    "\n",
    "### The critical value of χ2 with 3 degree of freedom is 7.815. Since 8.006 > 7.815, therefore we reject the null hypothesis and conclude that the education level depends on gender at a 5% level of significance."
   ]
  },
  {
   "cell_type": "markdown",
   "metadata": {},
   "source": [
    "### Problem Statement 2:\n",
    "### Using the following data, perform a oneway analysis of variance using α=.05. Write up the results in APA format.\n",
    "### [Group1: 51, 45, 33, 45, 67]\n",
    "### [Group2: 23, 43, 23, 43, 45]\n",
    "### [Group3: 56, 76, 74, 87, 56]"
   ]
  },
  {
   "cell_type": "markdown",
   "metadata": {},
   "source": [
    "##### Let's there are 3 Groups G1, G2 and G3\n",
    "##### Mean of the all three groups are  48.2, 35.4, 69.8 respectively\n"
   ]
  },
  {
   "cell_type": "code",
   "execution_count": 1,
   "metadata": {},
   "outputs": [
    {
     "data": {
      "text/plain": [
       "' Intermediate steps in calculating the group variances:\\n\\n [[1]]\\n   value mean deviations sq deviations\\n 1    51 48.2        2.8          7.84\\n 2    45 48.2       -3.2         10.24\\n 3    33 48.2      -15.2        231.04\\n 4    45 48.2       -3.2         10.24\\n 5    67 48.2       18.8        353.44\\n\\n[[2]]\\n  value mean deviations sq deviations\\n1    23 35.4      -12.4        153.76\\n2    43 35.4        7.6         57.76\\n3    23 35.4      -12.4        153.76\\n4    43 35.4        7.6         57.76\\n5    45 35.4        9.6         92.16\\n\\n[[3]]\\n  value mean deviations sq deviations\\n1    56 69.8      -13.8        190.44\\n2    76 69.8        6.2         38.44\\n3    74 69.8        4.2         17.64\\n4    87 69.8       17.2        295.84\\n5    56 69.8      -13.8        190.44\\n'"
      ]
     },
     "execution_count": 1,
     "metadata": {},
     "output_type": "execute_result"
    }
   ],
   "source": [
    "''' Intermediate steps in calculating the group variances:\n",
    "\n",
    " [[1]]\n",
    "   value mean deviations sq deviations\n",
    " 1    51 48.2        2.8          7.84\n",
    " 2    45 48.2       -3.2         10.24\n",
    " 3    33 48.2      -15.2        231.04\n",
    " 4    45 48.2       -3.2         10.24\n",
    " 5    67 48.2       18.8        353.44\n",
    "\n",
    "[[2]]\n",
    "  value mean deviations sq deviations\n",
    "1    23 35.4      -12.4        153.76\n",
    "2    43 35.4        7.6         57.76\n",
    "3    23 35.4      -12.4        153.76\n",
    "4    43 35.4        7.6         57.76\n",
    "5    45 35.4        9.6         92.16\n",
    "\n",
    "[[3]]\n",
    "  value mean deviations sq deviations\n",
    "1    56 69.8      -13.8        190.44\n",
    "2    76 69.8        6.2         38.44\n",
    "3    74 69.8        4.2         17.64\n",
    "4    87 69.8       17.2        295.84\n",
    "5    56 69.8      -13.8        190.44\n",
    "'''"
   ]
  },
  {
   "cell_type": "markdown",
   "metadata": {},
   "source": [
    "Sum of squared deviations from the mean (SS) for the groups G1, G2 and G3:\n",
    "\n",
    "612.8   \n",
    "\n",
    "515.2\n",
    "\n",
    "732.8"
   ]
  },
  {
   "cell_type": "code",
   "execution_count": 2,
   "metadata": {},
   "outputs": [
    {
     "name": "stdout",
     "output_type": "stream",
     "text": [
      "153.2\n",
      "128.8\n",
      "183.2\n"
     ]
    }
   ],
   "source": [
    "Var1 = 612.8/(5-1)\n",
    "\n",
    "Var2 = 515.2/(5-1)\n",
    "\n",
    "Var3 = 732.8/(5-1)\n",
    "print(Var1)\n",
    "print(Var2)\n",
    "print(Var3)"
   ]
  },
  {
   "cell_type": "code",
   "execution_count": 3,
   "metadata": {},
   "outputs": [
    {
     "data": {
      "text/plain": [
       "155.06666666666666"
      ]
     },
     "execution_count": 3,
     "metadata": {},
     "output_type": "execute_result"
    }
   ],
   "source": [
    "MS_error = (Var1 + Var2 + Var3) /3\n",
    "MS_error"
   ]
  },
  {
   "cell_type": "markdown",
   "metadata": {},
   "source": [
    "### Calculating the remaining error (or within) terms for the ANOVA table:\n",
    "\n"
   ]
  },
  {
   "cell_type": "code",
   "execution_count": 4,
   "metadata": {},
   "outputs": [
    {
     "data": {
      "text/plain": [
       "12"
      ]
     },
     "execution_count": 4,
     "metadata": {},
     "output_type": "execute_result"
    }
   ],
   "source": [
    "df_error = 15-3\n",
    "df_error"
   ]
  },
  {
   "cell_type": "code",
   "execution_count": 5,
   "metadata": {},
   "outputs": [
    {
     "data": {
      "text/plain": [
       "1860.8"
      ]
     },
     "execution_count": 5,
     "metadata": {},
     "output_type": "execute_result"
    }
   ],
   "source": [
    "SS_error1=(MS_error)*(15-3)\n",
    "SS_error1"
   ]
  },
  {
   "cell_type": "code",
   "execution_count": 6,
   "metadata": {},
   "outputs": [
    {
     "data": {
      "text/plain": [
       "51.133333333333326"
      ]
     },
     "execution_count": 6,
     "metadata": {},
     "output_type": "execute_result"
    }
   ],
   "source": [
    "## Intermediate steps in calculating the variance of the sample means:\n",
    "\n",
    "x_mean = (48.2 + 35.4 + 69.8) /3\n",
    "x_mean\n"
   ]
  },
  {
   "cell_type": "code",
   "execution_count": 7,
   "metadata": {},
   "outputs": [
    {
     "data": {
      "text/plain": [
       "'\\n   group mean       grand mean     deviations      sq deviations\\n       48.2         51.13          -2.93           8.58\\n       35.4         51.13          -15.73          247.43\\n       69.8         51.13           18.67          348.57\\n\\n'"
      ]
     },
     "execution_count": 7,
     "metadata": {},
     "output_type": "execute_result"
    }
   ],
   "source": [
    "'''\n",
    "   group mean       grand mean     deviations      sq deviations\n",
    "       48.2         51.13          -2.93           8.58\n",
    "       35.4         51.13          -15.73          247.43\n",
    "       69.8         51.13           18.67          348.57\n",
    "\n",
    "'''"
   ]
  },
  {
   "cell_type": "code",
   "execution_count": 8,
   "metadata": {},
   "outputs": [
    {
     "data": {
      "text/plain": [
       "302.29"
      ]
     },
     "execution_count": 8,
     "metadata": {},
     "output_type": "execute_result"
    }
   ],
   "source": [
    "#Sum of squares \n",
    "SS_means=604.58\n",
    "Var_means = SS_means/(3-1)\n",
    "Var_means"
   ]
  },
  {
   "cell_type": "code",
   "execution_count": 9,
   "metadata": {},
   "outputs": [
    {
     "data": {
      "text/plain": [
       "1511.45"
      ]
     },
     "execution_count": 9,
     "metadata": {},
     "output_type": "execute_result"
    }
   ],
   "source": [
    "MS_between=Var_means*5\n",
    "MS_between"
   ]
  },
  {
   "cell_type": "code",
   "execution_count": 10,
   "metadata": {},
   "outputs": [
    {
     "data": {
      "text/plain": [
       "3022.9"
      ]
     },
     "execution_count": 10,
     "metadata": {},
     "output_type": "execute_result"
    }
   ],
   "source": [
    "df_groups=3-1\n",
    "SS_group=MS_between*df_groups\n",
    "SS_group"
   ]
  },
  {
   "cell_type": "code",
   "execution_count": 11,
   "metadata": {},
   "outputs": [
    {
     "data": {
      "text/plain": [
       "9.747098022355976"
      ]
     },
     "execution_count": 11,
     "metadata": {},
     "output_type": "execute_result"
    }
   ],
   "source": [
    "## Test statistic and critical value\n",
    "F = MS_between /MS_error\n",
    "F"
   ]
  },
  {
   "cell_type": "code",
   "execution_count": 12,
   "metadata": {},
   "outputs": [],
   "source": [
    "## F_critical(2,12)=3.89\n",
    "#  Decision: reject H0 "
   ]
  },
  {
   "cell_type": "markdown",
   "metadata": {},
   "source": [
    "### Problem Statement 3:\n",
    "### Calculate F Test for given 10, 20, 30, 40, 50 and 5,10,15, 20, 25.\n",
    "### For 10, 20, 30, 40, 50:"
   ]
  },
  {
   "attachments": {
    "f-test-distribution-formula.jpg": {
     "image/jpeg": "[encoded data removed]"
    }
   },
   "cell_type": "markdown",
   "metadata": {},
   "source": [
    "![f-test-distribution-formula.jpg](attachment:f-test-distribution-formula.jpg)"
   ]
  },
  {
   "cell_type": "code",
   "execution_count": 13,
   "metadata": {},
   "outputs": [
    {
     "name": "stdout",
     "output_type": "stream",
     "text": [
      "Mean  30\n",
      "Standard Deviation --> 15.811388300841896\n",
      "Varaince --> 250.0\n"
     ]
    }
   ],
   "source": [
    "# Calculate Variance of first set \n",
    "list1 = [10, 20, 30, 40, 50]\n",
    "#list1\n",
    "import numpy as np\n",
    "np.mean(list1)\n",
    "import statistics as stats\n",
    "\n",
    "x1 = stats.mean(list1) \n",
    "print(\"Mean \",x1)\n",
    "sd1 = stats.stdev(list1)\n",
    "print(\"Standard Deviation -->\", sd1)\n",
    "varaiance1 = sd1**2\n",
    "print(\"Varaince -->\",varaiance1)"
   ]
  },
  {
   "cell_type": "code",
   "execution_count": 14,
   "metadata": {},
   "outputs": [
    {
     "name": "stdout",
     "output_type": "stream",
     "text": [
      "Mean  15\n",
      "Standard Deviation --> 7.905694150420948\n",
      "Varaince --> 62.5\n"
     ]
    }
   ],
   "source": [
    "## Calculate Variance of second set \n",
    "list2 = [5,10,15, 20, 25]\n",
    "#list1\n",
    "import numpy as np\n",
    "np.mean(list2)\n",
    "import statistics as stats\n",
    "\n",
    "x2 = stats.mean(list2) \n",
    "print(\"Mean \",x2)\n",
    "sd2 = stats.stdev(list2)\n",
    "print(\"Standard Deviation -->\", sd2)\n",
    "varaiance2 = sd2**2\n",
    "print(\"Varaince -->\",varaiance2)"
   ]
  },
  {
   "cell_type": "code",
   "execution_count": 15,
   "metadata": {},
   "outputs": [
    {
     "data": {
      "text/plain": [
       "4.0"
      ]
     },
     "execution_count": 15,
     "metadata": {},
     "output_type": "execute_result"
    }
   ],
   "source": [
    "# To calculate F Test \n",
    "# F Test = (variance of 10, 20,30,40,50) / (variance of 5, 10, 15, 20, 25) \n",
    "F_Test = varaiance1/varaiance2\n",
    "F_Test\n"
   ]
  }
 ],
 "metadata": {
  "kernelspec": {
   "display_name": "Python 3",
   "language": "python",
   "name": "python3"
  },
  "language_info": {
   "codemirror_mode": {
    "name": "ipython",
    "version": 3
   },
   "file_extension": ".py",
   "mimetype": "text/x-python",
   "name": "python",
   "nbconvert_exporter": "python",
   "pygments_lexer": "ipython3",
   "version": "3.6.4"
  }
 },
 "nbformat": 4,
 "nbformat_minor": 2
}
